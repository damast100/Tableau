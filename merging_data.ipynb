{
 "cells": [
  {
   "cell_type": "code",
   "execution_count": 1,
   "id": "4e5ab10c",
   "metadata": {},
   "outputs": [],
   "source": [
    "import pandas as pd"
   ]
  },
  {
   "cell_type": "code",
   "execution_count": 3,
   "id": "472e9e23",
   "metadata": {},
   "outputs": [],
   "source": [
    "path = \"Resources/JC-202204-citibike-tripdata.csv\"\n",
    "path1 = \"Resources/JC-202205-citibike-tripdata.csv\"\n",
    "path2 = \"Resources/JC-202206-citibike-tripdata.csv\""
   ]
  },
  {
   "cell_type": "code",
   "execution_count": 18,
   "id": "53396077",
   "metadata": {},
   "outputs": [],
   "source": [
    "df = pd.concat(map(pd.read_csv, [path, path1, path2]), ignore_index=True)\n",
    "df.to_csv(\"Resources/cleaned_data.csv\", index=False)"
   ]
  },
  {
   "cell_type": "code",
   "execution_count": null,
   "id": "2f650145",
   "metadata": {},
   "outputs": [],
   "source": []
  }
 ],
 "metadata": {
  "kernelspec": {
   "display_name": "Python 3 (ipykernel)",
   "language": "python",
   "name": "python3"
  },
  "language_info": {
   "codemirror_mode": {
    "name": "ipython",
    "version": 3
   },
   "file_extension": ".py",
   "mimetype": "text/x-python",
   "name": "python",
   "nbconvert_exporter": "python",
   "pygments_lexer": "ipython3",
   "version": "3.9.7"
  }
 },
 "nbformat": 4,
 "nbformat_minor": 5
}
